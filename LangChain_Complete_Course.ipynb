{
 "cells": [
  {
   "cell_type": "code",
   "execution_count": 1,
   "metadata": {},
   "outputs": [
    {
     "name": "stdout",
     "output_type": "stream",
     "text": [
      "ok!\n"
     ]
    }
   ],
   "source": [
    "import langchain\n",
    "print(\"ok!\")"
   ]
  },
  {
   "cell_type": "markdown",
   "metadata": {},
   "source": [
    "### Langchian with Huggingface Hub "
   ]
  },
  {
   "cell_type": "code",
   "execution_count": 8,
   "metadata": {},
   "outputs": [
    {
     "data": {
      "text/plain": [
       "True"
      ]
     },
     "execution_count": 8,
     "metadata": {},
     "output_type": "execute_result"
    }
   ],
   "source": [
    "import os\n",
    "from dotenv import load_dotenv\n",
    "\n",
    "load_dotenv()  # take environment variables from .env."
   ]
  },
  {
   "cell_type": "code",
   "execution_count": 10,
   "metadata": {},
   "outputs": [],
   "source": [
    "HUGGINGFACE_TOKEN = os.getenv(\"HUGGINGFACE_TOKEN\")"
   ]
  },
  {
   "cell_type": "code",
   "execution_count": 19,
   "metadata": {},
   "outputs": [],
   "source": [
    "from langchain import HuggingFaceHub"
   ]
  },
  {
   "cell_type": "code",
   "execution_count": 22,
   "metadata": {},
   "outputs": [],
   "source": [
    "# Loading the Google flan-t5-large model from huggingface \n",
    "\n",
    "flan_llm = HuggingFaceHub(repo_id= \"google/flan-t5-large\", huggingfacehub_api_token= HUGGINGFACE_TOKEN)"
   ]
  },
  {
   "cell_type": "code",
   "execution_count": 31,
   "metadata": {},
   "outputs": [
    {
     "data": {
      "text/plain": [
       "'Delhi'"
      ]
     },
     "execution_count": 31,
     "metadata": {},
     "output_type": "execute_result"
    }
   ],
   "source": [
    "flan_llm(\"tell me capital of India, what is the secret for beauty of India\")"
   ]
  },
  {
   "cell_type": "code",
   "execution_count": 23,
   "metadata": {},
   "outputs": [],
   "source": [
    "\n",
    "mistril_llm = HuggingFaceHub(repo_id= \"mistralai/Mixtral-8x7B-Instruct-v0.1\", huggingfacehub_api_token= HUGGINGFACE_TOKEN)"
   ]
  },
  {
   "cell_type": "code",
   "execution_count": 27,
   "metadata": {},
   "outputs": [
    {
     "name": "stdout",
     "output_type": "stream",
     "text": [
      "will AI leads to job loss? please translate it in tamil\n",
      "\n",
      "Artificial Intelligence (AI) has the potential to automate certain tasks, which could lead to job displacement in some industries. However, it can also create new jobs and opportunities as new technologies and industries emerge. The impact of AI on employment is complex and will depend on various factors, including the specific industry, the type of job, and how companies choose to implement AI.\n",
      "\n",
      "In Tamil, the above paragraph can be translated as:\n",
      "\n",
      "அர்த\n"
     ]
    }
   ],
   "source": [
    "print(mistril_llm(\"will AI leads to job loss? please translate it in tamil\"))"
   ]
  },
  {
   "cell_type": "code",
   "execution_count": 30,
   "metadata": {},
   "outputs": [
    {
     "name": "stdout",
     "output_type": "stream",
     "text": [
      "can you give me a 100 lines summary of LTTE Prabhakaran's life?\n",
      "\n",
      "Velupillai Prabhakaran was born on November 26, 1954, in Valvettithurai, a coastal town in northern Sri Lanka. He was the eldest of four children in a Tamil family. Prabhakaran's father, Thiruvenkadam Velupillai, was a civil servant, and his mother, Parvathy, was a housewife\n"
     ]
    }
   ],
   "source": [
    "print(mistril_llm.predict(\"can you give me a 100 lines summary of LTTE Prabhakaran\"))"
   ]
  },
  {
   "cell_type": "markdown",
   "metadata": {},
   "source": [
    "### Langchain with OpenAI API "
   ]
  },
  {
   "cell_type": "code",
   "execution_count": 12,
   "metadata": {},
   "outputs": [],
   "source": [
    "OPENAI_API_KEY = os.getenv(\"OPENAI_API_KEY\")"
   ]
  },
  {
   "cell_type": "code",
   "execution_count": 15,
   "metadata": {},
   "outputs": [],
   "source": [
    "import openai \n",
    "from langchain.llms import OpenAI"
   ]
  },
  {
   "cell_type": "code",
   "execution_count": 17,
   "metadata": {},
   "outputs": [
    {
     "name": "stderr",
     "output_type": "stream",
     "text": [
      "f:\\Generative_AI\\Projects\\Langchain\\venv\\lib\\site-packages\\langchain_core\\_api\\deprecation.py:117: LangChainDeprecationWarning: The class `langchain_community.llms.openai.OpenAI` was deprecated in langchain-community 0.0.10 and will be removed in 0.2.0. An updated version of the class exists in the langchain-openai package and should be used instead. To use it run `pip install -U langchain-openai` and import as `from langchain_openai import OpenAI`.\n",
      "  warn_deprecated(\n"
     ]
    }
   ],
   "source": [
    "llm= OpenAI()"
   ]
  },
  {
   "cell_type": "code",
   "execution_count": 18,
   "metadata": {},
   "outputs": [
    {
     "name": "stderr",
     "output_type": "stream",
     "text": [
      "f:\\Generative_AI\\Projects\\Langchain\\venv\\lib\\site-packages\\langchain_core\\_api\\deprecation.py:117: LangChainDeprecationWarning: The function `predict` was deprecated in LangChain 0.1.7 and will be removed in 0.2.0. Use invoke instead.\n",
      "  warn_deprecated(\n"
     ]
    },
    {
     "name": "stdout",
     "output_type": "stream",
     "text": [
      "\n",
      "\n",
      "Singapore, officially known as the Republic of Singapore, is a sovereign island city-state located in Southeast Asia. It is situated off the southern coast of Malaysia and is made up of one main island and 62 smaller islets. With a total land area of only 728.3 square kilometers, it is one of the smallest countries in the world.\n",
      "\n",
      "Singapore has a population of approximately 5.8 million people and is one of the most densely populated countries in the world. The majority of the population is made up of Chinese, Malay, and Indian ethnic groups, creating a diverse and multicultural society. The official languages are English, Malay, Mandarin, and Tamil.\n",
      "\n",
      "Singapore is known for its efficient and modern infrastructure, making it a global hub for finance, commerce, and transportation. It is also one of the world's leading financial centers, with a highly developed and stable economy. The country has a high standard of living and is consistently ranked as one of the safest and most livable cities in the world.\n",
      "\n",
      "The climate in Singapore is hot and humid throughout the year, with no distinct seasons. The country experiences occasional heavy rains and thunderstorms, as well as haze from forest fires in neighboring countries.\n",
      "\n",
      "Singapore is home to a diverse range of cultures and religions, resulting in a\n"
     ]
    }
   ],
   "source": [
    "text=\"can you tell me about the singapore?\"\n",
    "\n",
    "print(llm.predict(text))"
   ]
  },
  {
   "cell_type": "markdown",
   "metadata": {},
   "source": [
    "### Langchain with Google API"
   ]
  },
  {
   "cell_type": "code",
   "execution_count": 13,
   "metadata": {},
   "outputs": [],
   "source": [
    "GOOGLE_API_KEY = os.getenv(\"GOOGLE_API_KEY\")"
   ]
  },
  {
   "cell_type": "code",
   "execution_count": 32,
   "metadata": {},
   "outputs": [],
   "source": [
    "from langchain_google_genai import ChatGoogleGenerativeAI"
   ]
  },
  {
   "cell_type": "code",
   "execution_count": 33,
   "metadata": {},
   "outputs": [],
   "source": [
    "gemini = ChatGoogleGenerativeAI(model='gemini-pro', google_api_key=GOOGLE_API_KEY)"
   ]
  },
  {
   "cell_type": "code",
   "execution_count": 42,
   "metadata": {},
   "outputs": [
    {
     "name": "stdout",
     "output_type": "stream",
     "text": [
      "Kuala Lumpur\n"
     ]
    }
   ],
   "source": [
    "print(gemini.predict(\"what is capital of Malaysia\"))"
   ]
  },
  {
   "cell_type": "code",
   "execution_count": 41,
   "metadata": {},
   "outputs": [
    {
     "name": "stdout",
     "output_type": "stream",
     "text": [
      "content='Jaffna, formerly known as Yazhpanam, is a city located in the northernmost part of Sri Lanka. It is the capital of the Northern Province and the cultural center of the Tamil people.\\n\\nJaffna is known for its beautiful beaches, ancient temples, and colonial architecture. The city is also home to a number of universities and colleges, making it a major educational center.\\n\\nOne of the most popular tourist attractions in Jaffna is the Nallur Kandaswamy Kovil, a Hindu temple dedicated to Lord Shiva. The temple is known for its intricate carvings and colorful paintings.\\n\\nAnother popular tourist destination is the Jaffna Fort, which was built by the Portuguese in the 16th century. The fort is now home to a museum and a library.\\n\\nJaffna is a vibrant and culturally rich city with a lot to offer visitors. The city is a great place to learn about Tamil culture and history.'\n"
     ]
    }
   ],
   "source": [
    "print(gemini.invoke(\"where yazhpanam is located, explain beauty of yazhpanam in less than 100 words\"))"
   ]
  },
  {
   "cell_type": "code",
   "execution_count": null,
   "metadata": {},
   "outputs": [],
   "source": []
  }
 ],
 "metadata": {
  "kernelspec": {
   "display_name": "Python 3",
   "language": "python",
   "name": "python3"
  },
  "language_info": {
   "codemirror_mode": {
    "name": "ipython",
    "version": 3
   },
   "file_extension": ".py",
   "mimetype": "text/x-python",
   "name": "python",
   "nbconvert_exporter": "python",
   "pygments_lexer": "ipython3",
   "version": "3.9.18"
  }
 },
 "nbformat": 4,
 "nbformat_minor": 2
}
